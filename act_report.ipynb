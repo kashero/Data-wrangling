{
 "cells": [
  {
   "cell_type": "markdown",
   "metadata": {},
   "source": [
    "## Report: act_report\n",
    "* Create a **250-word-minimum written report** called \"act_report.pdf\" or \"act_report.html\" that communicates the insights and displays the visualization(s) produced from your wrangled data. This is to be framed as an external document, like a blog post or magazine article, for example."
   ]
  },
  {
   "attachments": {
    "image.png": {
     "image/png": "[encoded data removed]"
    }
   },
   "cell_type": "markdown",
   "metadata": {},
   "source": [
    "## Act Report\n",
    "\n",
    "We gathered data from three dasets and performed a clean up as detailed below:\n",
    "\n",
    "1.We noted from twitter archive timestamp has been stored as a string instead of date thus transoformed it to date format.\n",
    "2.We note that 2 tweet id have zero value for the rating numerator i.e. tweet id\n",
    "835152434251116546 and 746906459439529985\n",
    "3.We note that one tweet id has a zero value for the rating denominator _ we cleaned this by removing all with a denominator not 10\n",
    "4.We note that the names used in twitter archive dataset could be typos as evidence by data\n",
    "frama df_oddname where we see names such as the,a,unacceptable and life._ we left this dataset\n",
    "as is\n",
    "5.We have 1976 entries without any dog style._we left this dataset as is.\n",
    "6.We have 66 duplicates jpg_url without any duplicate tweet id in the image predictor\n",
    "dataset._we left this dataset as is.\n",
    "7.There are different number of records in each dataset\n",
    "8.doggo, floofer, pupper, puppo columns contain ’None’ value where NaN should be used.\n",
    "9. Expanded url has null datasets\n",
    "\n",
    "\n",
    "After clean up we saved this dataset and did further analysis and observed the below:\n",
    "\n",
    "### Insights:\n",
    "1. Most of the tweets source came from twitter for iphone accounting for over 2000 tweets\n",
    "\n",
    "2.pupper is the favorite dog style with 209 dogs\n",
    "\n",
    "3.golden_retriever  is the most common breed accounting for 145 dogs\n",
    "\n",
    "4. Most tweets were done on a december\n",
    "\n",
    "### source of tweets\n",
    "![image.png](attachment:image.png)\n",
    "\n"
   ]
  },
  {
   "cell_type": "code",
   "execution_count": null,
   "metadata": {},
   "outputs": [],
   "source": []
  }
 ],
 "metadata": {
  "kernelspec": {
   "display_name": "Python 3",
   "language": "python",
   "name": "python3"
  },
  "language_info": {
   "codemirror_mode": {
    "name": "ipython",
    "version": 3
   },
   "file_extension": ".py",
   "mimetype": "text/x-python",
   "name": "python",
   "nbconvert_exporter": "python",
   "pygments_lexer": "ipython3",
   "version": "3.6.3"
  }
 },
 "nbformat": 4,
 "nbformat_minor": 2
}
