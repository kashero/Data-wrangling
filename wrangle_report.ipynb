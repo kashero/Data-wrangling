{
 "cells": [
  {
   "cell_type": "markdown",
   "metadata": {},
   "source": [
    "## Reporting: wragle_report\n",
    "* Create a **300-600 word written report** called \"wrangle_report.pdf\" or \"wrangle_report.html\" that briefly describes your wrangling efforts. This is to be framed as an internal document."
   ]
  },
  {
   "cell_type": "markdown",
   "metadata": {},
   "source": [
    "Data wrangling, sometimes referred to as data munging, is the process of transforming and mapping data from one \"raw\" data form into another format with the intent of making it more appropriate and valuable for a variety of downstream purposes such as analytics. \n",
    "\n",
    "The data wrangling process started by downloading the twitter archive data set, loading data from a URL and also getting Json data set from the twitter API. \n",
    "\n",
    "Data issues identified during the clean up process was as follows:\n",
    "\n",
    "Quality issues\n",
    "\n",
    "\n",
    "1.We noted from twitter archive timestamp has been stored as a string instead of date\n",
    "\n",
    "2.We note that 2 tweet id have zero value for the rating numerator i.e. tweet id 835152434251116546 and 746906459439529985\n",
    "\n",
    "3.We note that one tweet id has a zero value for the rating denominator _ we cleaned this by removing all with a denominator not 10\n",
    "\n",
    "4.We note that the names used in twitter archive dataset could be typos as evidence by data frama df_oddname where we see names such as the,a,unacceptable and life._ we left this dataset as is\n",
    "\n",
    "5.We have 1976 entries without any dog style._we left this dataset as is.\n",
    "\n",
    "6.We have 66 duplicates jpg_url without any duplicate tweet id in the image predictor dataset._we left this dataset as is.\n",
    "\n",
    "7.There are different number of records in each dataset\n",
    "\n",
    "8.doggo, floofer, pupper, puppo columns contain 'None' value where NaN should be used.\n",
    "\n",
    "9. Expanded url has null datasets\n",
    "\n",
    "Tidiness issues¶\n",
    "\n",
    "1.doggo, floofer, pupper, puppo columns are all about the same things, a kind of dog personality.\n",
    "\n",
    "2.df (twitter archive dataset) There are retweets and replies included in the dataset (represented by redundant columns)\n",
    "\n",
    "3. the source column from the twitter archive dataset needed to be cleaned for better visualization.\n",
    "\n",
    "\n"
   ]
  },
  {
   "cell_type": "code",
   "execution_count": null,
   "metadata": {},
   "outputs": [],
   "source": []
  }
 ],
 "metadata": {
  "kernelspec": {
   "display_name": "Python 3",
   "language": "python",
   "name": "python3"
  },
  "language_info": {
   "codemirror_mode": {
    "name": "ipython",
    "version": 3
   },
   "file_extension": ".py",
   "mimetype": "text/x-python",
   "name": "python",
   "nbconvert_exporter": "python",
   "pygments_lexer": "ipython3",
   "version": "3.6.3"
  }
 },
 "nbformat": 4,
 "nbformat_minor": 2
}
